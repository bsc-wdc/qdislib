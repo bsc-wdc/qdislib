{
 "cells": [
  {
   "cell_type": "markdown",
   "id": "ca373c07-bb0f-4c23-99d8-81caa6063480",
   "metadata": {},
   "source": [
    "# Qdislib Notebook\n",
    "## Circuit Cutting Algorithm"
   ]
  },
  {
   "cell_type": "markdown",
   "id": "fb7edd7b-bd79-459a-9fd5-4aeb055df8c2",
   "metadata": {},
   "source": [
    "Import the PyCOMPSs library"
   ]
  },
  {
   "cell_type": "code",
   "execution_count": null,
   "id": "15820060-bf08-42a3-ab6b-e6e51ab95d2a",
   "metadata": {},
   "outputs": [],
   "source": [
    "import pycompss.interactive as ipycompss"
   ]
  },
  {
   "cell_type": "markdown",
   "id": "8d803bd4-df85-4d91-a62c-20bac4f2eb72",
   "metadata": {},
   "source": [
    "Initialize COMPSs runtime. Parameters indicates if the execution will generate task graph, tracefile, monitor interval and debug information."
   ]
  },
  {
   "cell_type": "code",
   "execution_count": null,
   "id": "1adfa269-ee56-4734-85ba-cbb99799afef",
   "metadata": {},
   "outputs": [],
   "source": [
    "import os\n",
    "\n",
    "if \"BINDER_SERVICE_HOST\" in os.environ:\n",
    "    ipycompss.start(\n",
    "        graph=True,\n",
    "        project_xml=\"../xml/project.xml\",\n",
    "        resources_xml=\"../xml/resources.xml\",\n",
    "    )\n",
    "else:\n",
    "    ipycompss.start(graph=True, monitor=1000)  # debug=True, trace=True"
   ]
  },
  {
   "cell_type": "markdown",
   "id": "6ea86e3a-a0e7-4c79-a458-d60f2163ac1a",
   "metadata": {},
   "source": [
    "Import task and compss_wait_on module before annotating functions or methods"
   ]
  },
  {
   "cell_type": "code",
   "execution_count": null,
   "id": "76aced17-090a-4f47-becf-4c3416dafeb3",
   "metadata": {},
   "outputs": [],
   "source": [
    "from pycompss.api.task import task\n",
    "from pycompss.api.api import compss_wait_on"
   ]
  },
  {
   "cell_type": "markdown",
   "id": "c9299c19-cbd4-4b48-96e7-cd696696d4a3",
   "metadata": {},
   "source": [
    "Import **qibo** module in order to handle quantic circuits.\n",
    "Import **qiboconnection** module to connect to the Quantum Computer."
   ]
  },
  {
   "cell_type": "code",
   "execution_count": null,
   "id": "9159acad-2bf6-478b-8737-45b8a730f08f",
   "metadata": {},
   "outputs": [],
   "source": [
    "import numpy as np\n",
    "import qibo\n",
    "from qibo import models, gates, hamiltonians, callbacks\n",
    "from qibo.models import Circuit\n",
    "from qibo.symbols import X, Y, Z, I\n",
    "\n",
    "from qiboconnection.connection import ConnectionConfiguration\n",
    "from qiboconnection.api import API\n",
    "\n",
    "qibo.__version__"
   ]
  },
  {
   "cell_type": "markdown",
   "id": "d27638ae-42ec-468f-9e2e-701797f5312f",
   "metadata": {},
   "source": [
    "Import Qdislib where the algorithm circuit cutting is implemented"
   ]
  },
  {
   "cell_type": "code",
   "execution_count": null,
   "id": "09cd86d2-6e1b-4ca5-b06b-ef1af6887355",
   "metadata": {},
   "outputs": [],
   "source": [
    "import Qdislib\n",
    "from Qdislib import wire_cutting as wc\n",
    "from Qdislib import gate_cutting as gc\n",
    "from Qdislib import optimal_cut as oc"
   ]
  },
  {
   "cell_type": "markdown",
   "id": "0c302eb8-c559-4769-8ab6-873c1dfa4a8a",
   "metadata": {},
   "source": [
    "Credentials needed to connect to the Quantum Computer"
   ]
  },
  {
   "cell_type": "code",
   "execution_count": null,
   "id": "f989446e-b019-4786-a5f3-058039071fe6",
   "metadata": {},
   "outputs": [],
   "source": [
    "# Insert your credentials here\n",
    "configuration = ConnectionConfiguration(\n",
    "    username=\"bsc-training\",\n",
    "    api_key=\"b85b702e-6f94-42be-a876-89a670ebd9f6\",\n",
    ")\n",
    "connection = API(configuration=configuration)\n",
    "connection.ping()"
   ]
  },
  {
   "cell_type": "code",
   "execution_count": null,
   "id": "c0ca5d83-dc92-4a0f-bd74-b96b2c7d8d4f",
   "metadata": {},
   "outputs": [],
   "source": [
    "# connection.select_device_ids(device_ids=[9])\n",
    "# connection.list_devices()"
   ]
  },
  {
   "cell_type": "markdown",
   "id": "995772ac-c7bd-4464-8d91-0bd85fea664b",
   "metadata": {},
   "source": [
    "Define the circuit you want to cut"
   ]
  },
  {
   "cell_type": "code",
   "execution_count": null,
   "id": "fcbbb674-a3d5-4096-b5f7-8588584c422f",
   "metadata": {},
   "outputs": [],
   "source": [
    "def entire_circuit():\n",
    "    nqubits = 10\n",
    "    circuit = models.Circuit(nqubits)\n",
    "\n",
    "    circuit.add(gates.H(0))\n",
    "    circuit.add(gates.CZ(0, 1))\n",
    "    circuit.add(gates.CZ(2, 6))\n",
    "    circuit.add(gates.RZ(8, np.pi / 3))\n",
    "\n",
    "    circuit.add(gates.RY(3, np.pi / 5))\n",
    "    circuit.add(gates.RX(4, np.pi / 5))\n",
    "    circuit.add(gates.CZ(0, 2))\n",
    "    circuit.add(gates.CZ(5, 9))\n",
    "\n",
    "    circuit.add(gates.CZ(3, 5))\n",
    "    circuit.add(gates.CZ(3, 4))\n",
    "    circuit.add(gates.CZ(6, 7))\n",
    "    circuit.add(gates.RY(7, np.pi / 5))\n",
    "    circuit.add(gates.RZ(1, np.pi / 5))\n",
    "\n",
    "    circuit.add(gates.CZ(1, 5))\n",
    "    circuit.add(gates.RX(6, np.pi / 5))\n",
    "    circuit.add(gates.CZ(7, 8))\n",
    "\n",
    "    circuit.add(gates.H(9))\n",
    "    return circuit\n",
    "\n",
    "\n",
    "circuit = entire_circuit()\n",
    "print(circuit.draw())"
   ]
  },
  {
   "cell_type": "markdown",
   "id": "a002150b-17f0-492a-ab35-436579389d80",
   "metadata": {},
   "source": [
    "## Algorithms for Wire Cutting\n",
    "\n",
    "Use the functions implemented to cut and calculate the expected value of the main circuit.\n",
    "\n",
    "5 functions:\n",
    "\n",
    "* **circuit_cutting:**  Implements the whole algorithm in a single function. Cuts the circuit in 2 and calculates the expected value of the reconstruction."
   ]
  },
  {
   "cell_type": "code",
   "execution_count": null,
   "id": "440817ff-5311-4c9a-bbee-f450e1e993a1",
   "metadata": {},
   "outputs": [],
   "source": [
    "circuit = entire_circuit()\n",
    "# wc.circuit_cutting(\"ZZZZZZZZZZ\",circuit, 4)"
   ]
  },
  {
   "cell_type": "markdown",
   "id": "8f980e51-97c4-4aef-839e-cef8199248af",
   "metadata": {},
   "source": [
    "* **split** : Splits a circuit in two subcircuits. Cuts after the gate we pass as the parameter."
   ]
  },
  {
   "cell_type": "code",
   "execution_count": null,
   "id": "a0785f59-0ac6-4c2c-ac82-bdb772543e31",
   "metadata": {},
   "outputs": [],
   "source": [
    "circuit = entire_circuit()\n",
    "qubit, list_subcircuits = wc.split(circuit, (2, 13), True)"
   ]
  },
  {
   "cell_type": "markdown",
   "id": "a316a47e-1e65-4ef5-8237-6379d72a63d8",
   "metadata": {},
   "source": [
    "* **simulation** : Performs the execution of a cirucuit to calculate the expected value. It accepts one or two circuits. With 1 circuit it calculates the expected value straight forward, with 2 it performs a reeconstruction in order to provie the expected value."
   ]
  },
  {
   "cell_type": "code",
   "execution_count": null,
   "id": "624178b1-a48e-4350-a4bb-eed29c4477b7",
   "metadata": {},
   "outputs": [],
   "source": [
    "circuit = entire_circuit()\n",
    "# wc.simulation(\"ZZZZ\", circuit)\n",
    "print(\"\\n\")\n",
    "\n",
    "circuit = entire_circuit()\n",
    "qubit, list_subcircuits = wc.split(circuit, (2, 13), True)\n",
    "wc.simulation(\"ZZZZZZZZZZ\", qubit, list_subcircuits[0], list_subcircuits[1], 90000)"
   ]
  },
  {
   "cell_type": "markdown",
   "id": "35a762ca-8b22-461e-a55c-25a3eca70d85",
   "metadata": {},
   "source": [
    "* **quantum_computer_execution** : Sends the execution to the quantum computer to calculate the expected value, instead of performing a simulation. (in process)\n",
    "  - Interactive\n",
    "  - Enqueue (returns list job ids)"
   ]
  },
  {
   "cell_type": "code",
   "execution_count": null,
   "id": "a690a19f-baf2-4f24-9a45-3d8a0dd4775b",
   "metadata": {},
   "outputs": [],
   "source": [
    "# circuit = entire_circuit()\n",
    "# cc.quantum_computer_interactive(\"ZZZZ\", circuit1, circuit2, connection)\n",
    "# jobs_id = quantum_computer_enqueue(\"ZZZZ\", circuit1, circuit2, connection)"
   ]
  },
  {
   "cell_type": "markdown",
   "id": "69848867-04ca-4e56-beb2-f5647680231e",
   "metadata": {},
   "source": [
    "* **analytical_solution** : Computes the analytical expected value for the circuit. "
   ]
  },
  {
   "cell_type": "code",
   "execution_count": null,
   "id": "aca8520a-83dd-4a7a-a2eb-3fc6fe512fdb",
   "metadata": {},
   "outputs": [],
   "source": [
    "circuit = entire_circuit()\n",
    "wc.analytical_solution(\"ZZZZZZZZZZ\", circuit)"
   ]
  },
  {
   "cell_type": "markdown",
   "id": "8ec84d74-6fd6-4c69-aec1-4151e900b1aa",
   "metadata": {},
   "source": [
    "## Algorithm for Gate Cutting\n",
    "\n",
    "split_gates\n",
    "simulation\n",
    "frequencies\n",
    "expectation_value\n",
    "reconstruction\n",
    "\n",
    "gate_cutting\n"
   ]
  },
  {
   "cell_type": "code",
   "execution_count": null,
   "id": "b5664be6-0891-4b78-9918-7cd77185ebfd",
   "metadata": {},
   "outputs": [],
   "source": [
    "def entire_circuit():\n",
    "    nqubits = 10\n",
    "    circuit = models.Circuit(nqubits)\n",
    "\n",
    "    circuit.add(gates.H(0))\n",
    "    circuit.add(gates.CZ(0, 1))\n",
    "    circuit.add(gates.CZ(2, 6))\n",
    "    circuit.add(gates.RZ(8, np.pi / 3))\n",
    "\n",
    "    circuit.add(gates.RY(3, np.pi / 5))\n",
    "    circuit.add(gates.RX(4, np.pi / 5))\n",
    "    circuit.add(gates.CZ(0, 2))\n",
    "    circuit.add(gates.CZ(5, 9))\n",
    "\n",
    "    circuit.add(gates.CZ(3, 5))\n",
    "    circuit.add(gates.CZ(3, 4))\n",
    "    circuit.add(gates.CZ(6, 7))\n",
    "    circuit.add(gates.RY(7, np.pi / 5))\n",
    "    circuit.add(gates.RZ(1, np.pi / 5))\n",
    "\n",
    "    circuit.add(gates.CZ(1, 5))\n",
    "    circuit.add(gates.RX(6, np.pi / 5))\n",
    "    circuit.add(gates.CZ(7, 8))\n",
    "\n",
    "    circuit.add(gates.H(9))\n",
    "    return circuit"
   ]
  },
  {
   "cell_type": "code",
   "execution_count": null,
   "id": "e4ef3a34-d62e-4715-9b29-d2b690ec5db0",
   "metadata": {},
   "outputs": [],
   "source": [
    "circuit = entire_circuit()\n",
    "subcircuits = gc.split_gates([3, 14], circuit, True)"
   ]
  },
  {
   "cell_type": "code",
   "execution_count": null,
   "id": "22c76059-8ca6-467f-a6d3-dcb6c4dbd99a",
   "metadata": {},
   "outputs": [],
   "source": [
    "expectation_value = []\n",
    "type_gates = type(circuit.queue[3 - 1])\n",
    "for subcircuit in subcircuits:\n",
    "    subcircuit.add(gates.M(*range(subcircuit.nqubits)))\n",
    "    result = gc._gate_simulation(subcircuit, 90000)\n",
    "    frequencies = gc._gate_frequencies(result)\n",
    "    expec = gc.gate_expectation_value(frequencies, 90000)\n",
    "    expectation_value.append(expec)\n",
    "expectation_value = compss_wait_on(expectation_value)  # IMPORTANT\n",
    "reconstruct = gc.gate_reconstruction(type_gates, [3, 14], expectation_value)\n",
    "print(reconstruct)"
   ]
  },
  {
   "cell_type": "code",
   "execution_count": null,
   "id": "176d6894-b27d-4650-a036-932bbb71b6c5",
   "metadata": {},
   "outputs": [],
   "source": [
    "circuit = entire_circuit()\n",
    "print(circuit.draw())\n",
    "\n",
    "gc.gate_cutting([3, 14], circuit, 90000, 3, True)"
   ]
  },
  {
   "cell_type": "markdown",
   "id": "21bb3a3a-5cc8-41be-bea0-b1428604f06a",
   "metadata": {},
   "source": [
    "## Optimal Cut"
   ]
  },
  {
   "cell_type": "markdown",
   "id": "875782c8-17ef-4c59-b53d-2c6c3f4e769b",
   "metadata": {},
   "source": [
    "parameters: circuit, num_qubits, num_subcircuits, max_cuts, gate_cut, wire_cut"
   ]
  },
  {
   "cell_type": "code",
   "execution_count": null,
   "id": "91d4cc29-00f1-4ceb-8977-0cb16c363054",
   "metadata": {},
   "outputs": [],
   "source": [
    "circuit = entire_circuit()\n",
    "oc.optimal_cut(circuit)"
   ]
  },
  {
   "cell_type": "markdown",
   "id": "ac905b53-16e2-4cd0-bcde-68cefb445c8f",
   "metadata": {},
   "source": [
    "Stop COMPSs runtime."
   ]
  },
  {
   "cell_type": "code",
   "execution_count": null,
   "id": "4f1679a2-0d9c-4fb4-8c00-2c0abb32e9e8",
   "metadata": {},
   "outputs": [],
   "source": [
    "ipycompss.stop(sync=True)"
   ]
  },
  {
   "cell_type": "code",
   "execution_count": null,
   "id": "0c3da010-6e4d-4916-8d1a-a3f833f6cf9d",
   "metadata": {},
   "outputs": [],
   "source": []
  },
  {
   "cell_type": "code",
   "execution_count": null,
   "id": "2c3ff003-2f04-4197-ba37-a7e82e639612",
   "metadata": {},
   "outputs": [],
   "source": []
  }
 ],
 "metadata": {
  "kernelspec": {
   "display_name": "Python 3 (ipykernel)",
   "language": "python",
   "name": "python3"
  },
  "language_info": {
   "codemirror_mode": {
    "name": "ipython",
    "version": 3
   },
   "file_extension": ".py",
   "mimetype": "text/x-python",
   "name": "python",
   "nbconvert_exporter": "python",
   "pygments_lexer": "ipython3",
   "version": "3.10.12"
  },
  "varInspector": {
   "cols": {
    "lenName": 16,
    "lenType": 16,
    "lenVar": 40
   },
   "kernels_config": {
    "python": {
     "delete_cmd_postfix": "",
     "delete_cmd_prefix": "del ",
     "library": "var_list.py",
     "varRefreshCmd": "print(var_dic_list())"
    },
    "r": {
     "delete_cmd_postfix": ") ",
     "delete_cmd_prefix": "rm(",
     "library": "var_list.r",
     "varRefreshCmd": "cat(var_dic_list()) "
    }
   },
   "types_to_exclude": [
    "module",
    "function",
    "builtin_function_or_method",
    "instance",
    "_Feature"
   ],
   "window_display": false
  }
 },
 "nbformat": 4,
 "nbformat_minor": 5
}
