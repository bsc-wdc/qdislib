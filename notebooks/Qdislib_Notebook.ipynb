{
 "cells": [
  {
   "cell_type": "markdown",
   "id": "ca373c07-bb0f-4c23-99d8-81caa6063480",
   "metadata": {},
   "source": [
    "# 📓 Qdislib Example Notebook\n",
    "\n",
    "This document explains each section of the Qdislib Jupyter notebook, showcasing how to apply gate and wire cutting techniques to large quantum circuits using Qdislib, Qibo, Qiskit, and PyCOMPSs."
   ]
  },
  {
   "cell_type": "markdown",
   "id": "fb7edd7b-bd79-459a-9fd5-4aeb055df8c2",
   "metadata": {},
   "source": [
    "Import the PyCOMPSs library"
   ]
  },
  {
   "cell_type": "code",
   "execution_count": 1,
   "id": "15820060-bf08-42a3-ab6b-e6e51ab95d2a",
   "metadata": {},
   "outputs": [],
   "source": [
    "import pycompss.interactive as ipycompss"
   ]
  },
  {
   "cell_type": "markdown",
   "id": "8d803bd4-df85-4d91-a62c-20bac4f2eb72",
   "metadata": {},
   "source": [
    "### 🔧 1. Environment Setup with PyCOMPSs\n",
    "\n",
    "Goal: Start the PyCOMPSs runtime for distributed execution.\n",
    "\n",
    "What Happens:\n",
    "\n",
    "* Loads required COMPSs XML config files: project.xml and resources.xml.\n",
    "\n",
    "* Enables optional flags like graph, monitor, debug, and trace.\n",
    "\n",
    "Why: PyCOMPSs enables parallel task execution — crucial for evaluating subcircuits in distributed environments."
   ]
  },
  {
   "cell_type": "code",
   "execution_count": 2,
   "id": "1adfa269-ee56-4734-85ba-cbb99799afef",
   "metadata": {},
   "outputs": [
    {
     "name": "stdout",
     "output_type": "stream",
     "text": [
      "********************************************************\n",
      "**************** PyCOMPSs Interactive ******************\n",
      "********************************************************\n",
      "*          .-~~-.--.           ______         ______   *\n",
      "*         :         )         |____  \\       |____  \\  *\n",
      "*   .~ ~ -.\\       /.- ~~ .      __) |          __) |  *\n",
      "*   >       `.   .'       <     |__  |         |__  |  *\n",
      "*  (         .- -.         )   ____) |   _    ____) |  *\n",
      "*   `- -.-~  `- -'  ~-.- -'   |______/  |_|  |______/  *\n",
      "*     (        :        )           _ _ .-:            *\n",
      "*      ~--.    :    .--~        .-~  .-~  }            *\n",
      "*          ~-.-^-.-~ \\_      .~  .-~   .~              *\n",
      "*                   \\ \\ '     \\ '_ _ -~                *\n",
      "*                    \\`.\\`.    //                      *\n",
      "*           . - ~ ~-.__\\`.\\`-.//                       *\n",
      "*       .-~   . - ~  }~ ~ ~-.~-.                       *\n",
      "*     .' .-~      .-~       :/~-.~-./:                 *\n",
      "*    /_~_ _ . - ~                 ~-.~-._              *\n",
      "*                                     ~-.<             *\n",
      "********************************************************\n",
      "* - Starting COMPSs runtime...                         *\n"
     ]
    },
    {
     "name": "stdout",
     "output_type": "stream",
     "text": [
      "* - Log path : /home/mtejedor/.COMPSs/Interactive_237/\n",
      "* - PyCOMPSs Runtime started... Have fun!              *\n",
      "********************************************************\n"
     ]
    }
   ],
   "source": [
    "import os\n",
    "\n",
    "if \"BINDER_SERVICE_HOST\" in os.environ:\n",
    "    ipycompss.start(\n",
    "        graph=True,\n",
    "        project_xml=\"../xml/project.xml\",\n",
    "        resources_xml=\"../xml/resources.xml\",\n",
    "    )\n",
    "else:\n",
    "    ipycompss.start(graph=True, monitor=1000)  # debug=True, trace=True"
   ]
  },
  {
   "cell_type": "markdown",
   "id": "6ea86e3a-a0e7-4c79-a458-d60f2163ac1a",
   "metadata": {},
   "source": [
    "Import task and compss_wait_on module before annotating functions or methods"
   ]
  },
  {
   "cell_type": "code",
   "execution_count": 3,
   "id": "76aced17-090a-4f47-becf-4c3416dafeb3",
   "metadata": {},
   "outputs": [],
   "source": [
    "from pycompss.api.task import task\n",
    "from pycompss.api.api import compss_wait_on"
   ]
  },
  {
   "cell_type": "markdown",
   "id": "c9299c19-cbd4-4b48-96e7-cd696696d4a3",
   "metadata": {},
   "source": [
    "### 🧠 2. Importing Required Modules\n",
    "\n",
    "Modules:\n",
    "\n",
    "* qibo.models, qibo.gates, qibo.hamiltonians: for defining and manipulating quantum circuits.\n",
    "\n",
    "* qd: likely refers to Qdislib, which contains the circuit cutting functions.\n",
    "\n",
    "Setup:\n",
    "\n",
    "* Sets the backend for Qibo (\"numpy\") to run locally on CPU."
   ]
  },
  {
   "cell_type": "code",
   "execution_count": 4,
   "id": "9159acad-2bf6-478b-8737-45b8a730f08f",
   "metadata": {},
   "outputs": [
    {
     "name": "stderr",
     "output_type": "stream",
     "text": [
      "[Qibo 0.2.8|INFO|2025-04-30 11:41:10]: Using numpy backend on /CPU:0\n"
     ]
    }
   ],
   "source": [
    "import numpy as np\n",
    "import qibo\n",
    "from qibo import models, gates, hamiltonians, callbacks\n",
    "from qibo.models import Circuit\n",
    "from qibo.symbols import X, Y, Z, I\n",
    "\n",
    "qibo.__version__\n",
    "qibo.set_backend(\"numpy\")"
   ]
  },
  {
   "cell_type": "markdown",
   "id": "d27638ae-42ec-468f-9e2e-701797f5312f",
   "metadata": {},
   "source": [
    "Import Qdislib where the circuit cutting is implemented"
   ]
  },
  {
   "cell_type": "code",
   "execution_count": 5,
   "id": "09cd86d2-6e1b-4ca5-b06b-ef1af6887355",
   "metadata": {},
   "outputs": [],
   "source": [
    "import Qdislib.api as qd"
   ]
  },
  {
   "cell_type": "markdown",
   "id": "995772ac-c7bd-4464-8d91-0bd85fea664b",
   "metadata": {},
   "source": [
    "### ⚙️ 3. Define the Main Circuit\n",
    "\n",
    "Function entire_circuit(): builds a 10-qubit circuit with:\n",
    "\n",
    "* Single-qubit gates: H, RX, RY, RZ.\n",
    "\n",
    "* Two-qubit gates: CZ.\n",
    "\n",
    "Circuit Objective: Simulates a non-trivial entangled circuit useful for demonstrating cutting algorithms."
   ]
  },
  {
   "cell_type": "code",
   "execution_count": 6,
   "id": "fcbbb674-a3d5-4096-b5f7-8588584c422f",
   "metadata": {},
   "outputs": [
    {
     "name": "stdout",
     "output_type": "stream",
     "text": [
      "q0: ─H─o──────o─────────────────────\n",
      "q1: ───Z──────|─────────RZ─o────────\n",
      "q2: ─────o────Z────────────|────────\n",
      "q3: ─────|─RY─────o─o──────|────────\n",
      "q4: ─────|─RX─────|─Z──────|────────\n",
      "q5: ─────|──────o─Z────────Z────────\n",
      "q6: ─────Z──────|─────o──────RX─────\n",
      "q7: ────────────|─────Z─RY──────o───\n",
      "q8: ───────RZ───|───────────────Z───\n",
      "q9: ────────────Z─────────────────H─\n"
     ]
    }
   ],
   "source": [
    "def entire_circuit():\n",
    "    nqubits = 10\n",
    "    circuit = models.Circuit(nqubits)\n",
    "\n",
    "    circuit.add(gates.H(0))\n",
    "    circuit.add(gates.CZ(0, 1))\n",
    "    circuit.add(gates.CZ(2, 6))\n",
    "    circuit.add(gates.RZ(8, np.pi / 3))\n",
    "\n",
    "    circuit.add(gates.RY(3, np.pi / 5))\n",
    "    circuit.add(gates.RX(4, np.pi / 5))\n",
    "    circuit.add(gates.CZ(0, 2))\n",
    "    circuit.add(gates.CZ(5, 9))\n",
    "\n",
    "    circuit.add(gates.CZ(3, 5))\n",
    "    circuit.add(gates.CZ(3, 4))\n",
    "    circuit.add(gates.CZ(6, 7))\n",
    "    circuit.add(gates.RY(7, np.pi / 5))\n",
    "    circuit.add(gates.RZ(1, np.pi / 5))\n",
    "\n",
    "    circuit.add(gates.CZ(1, 5))\n",
    "    circuit.add(gates.RX(6, np.pi / 5))\n",
    "    circuit.add(gates.CZ(7, 8))\n",
    "\n",
    "    circuit.add(gates.H(9))\n",
    "    return circuit\n",
    "\n",
    "\n",
    "circuit = entire_circuit()\n",
    "print(circuit.draw())"
   ]
  },
  {
   "cell_type": "markdown",
   "id": "a002150b-17f0-492a-ab35-436579389d80",
   "metadata": {},
   "source": [
    "### ✂️ 4. Gate Cutting Example\n",
    "\n",
    "qd.find_cut(circuit): Automatically identifies gates suitable for cutting.\n",
    "\n",
    "* Example result: ['CZ_2']\n",
    "\n",
    "\n",
    "qd.gate_cutting(circuit, cut):\n",
    "\n",
    "* Applies the gate cutting algorithm.\n",
    "\n",
    "* Cuts the circuit at the specified gate.\n",
    "\n",
    "* Evaluates subcircuits and reconstructs the expectation value.\n",
    "\n",
    "* Output: A reconstructed value (e.g., 0.0084...)."
   ]
  },
  {
   "cell_type": "code",
   "execution_count": 7,
   "id": "440817ff-5311-4c9a-bbee-f450e1e993a1",
   "metadata": {},
   "outputs": [
    {
     "name": "stdout",
     "output_type": "stream",
     "text": [
      "['CZ_2']\n"
     ]
    }
   ],
   "source": [
    "circuit = entire_circuit()\n",
    "\n",
    "cut = qd.find_cut(circuit)\n",
    "print(cut)"
   ]
  },
  {
   "cell_type": "code",
   "execution_count": 8,
   "id": "dbb96ec1",
   "metadata": {},
   "outputs": [
    {
     "name": "stdout",
     "output_type": "stream",
     "text": [
      "-0.018377304077148438\n"
     ]
    }
   ],
   "source": [
    "reconstruction = qd.gate_cutting(circuit, cut)\n",
    "print(reconstruction)"
   ]
  },
  {
   "cell_type": "markdown",
   "id": "dbbdd94c",
   "metadata": {},
   "source": [
    "### 🔌 5. Wire Cutting Example\n",
    "\n",
    "find_cut(..., gate_cut=False):\n",
    "\n",
    "* Finds cuts (pairs of gates) between which a wire cut is possible.\n",
    "\n",
    "* Force the algorithm to only finde wire cuts (setting gate_cut=False)\n",
    "\n",
    "* Example: [('CZ_2', 'CZ_7')]\n",
    "\n",
    "qd.wire_cutting(...):\n",
    "\n",
    "* Applies the wire cutting method across the selected gates.\n",
    "\n",
    "* Calculates the reconstructed expectation value."
   ]
  },
  {
   "cell_type": "code",
   "execution_count": 9,
   "id": "e2ce6a12",
   "metadata": {},
   "outputs": [
    {
     "name": "stdout",
     "output_type": "stream",
     "text": [
      "[('CZ_2', 'CZ_7')]\n"
     ]
    }
   ],
   "source": [
    "circuit = entire_circuit()\n",
    "\n",
    "cut = qd.find_cut(circuit, gate_cut=False)\n",
    "print(cut)"
   ]
  },
  {
   "cell_type": "code",
   "execution_count": 10,
   "id": "d074434d",
   "metadata": {},
   "outputs": [
    {
     "name": "stdout",
     "output_type": "stream",
     "text": [
      "-0.005832259999999987\n"
     ]
    }
   ],
   "source": [
    "reconstruction = qd.wire_cutting(circuit, cut)\n",
    "print(reconstruction)"
   ]
  },
  {
   "cell_type": "markdown",
   "id": "0334fca6",
   "metadata": {},
   "source": [
    "### 📊 6. Exact Expected Value\n",
    "\n",
    "qd.analytical_solution(circuit, \"Z\"*nqubits):\n",
    "\n",
    "* Computes the expected value using a symbolic statevector.\n",
    "\n",
    "* Used as a ground-truth comparison.\n",
    "\n",
    "* Observable can be modified\n",
    "\n",
    "Observation: Returns exact expected value — allows evaluation of gate cutting accuracy."
   ]
  },
  {
   "cell_type": "code",
   "execution_count": 11,
   "id": "98e34a03",
   "metadata": {},
   "outputs": [
    {
     "name": "stdout",
     "output_type": "stream",
     "text": [
      "0.0\n"
     ]
    }
   ],
   "source": [
    "circuit = entire_circuit()\n",
    "\n",
    "analytic = qd.analytical_solution(circuit,\"Z\"*circuit.nqubits)\n",
    "print(analytic)"
   ]
  },
  {
   "cell_type": "markdown",
   "id": "4d4042e7",
   "metadata": {},
   "source": [
    "### 🧩 7. Gate Cutting with Subcircuits\n",
    "\n",
    "qd.gate_cutting_subcircuits(...):\n",
    "\n",
    "* Performs gate cutting like before but also returns the subcircuits used for reconstruction.\n",
    "\n",
    "compss_wait_on(subcircuits): Synchronizes and retrieves the results (used with PyCOMPSs).\n",
    "\n",
    "Printed output: Visual representation of generated subcircuits using Qiskit's circuit print."
   ]
  },
  {
   "cell_type": "code",
   "execution_count": 12,
   "id": "6c77476d",
   "metadata": {},
   "outputs": [
    {
     "name": "stdout",
     "output_type": "stream",
     "text": [
      "['CZ_2']\n",
      "        ┌───┐   ┌──────────┐              \n",
      "q_0: ───┤ H ├───┤ Rz(-π/2) ├─────■────────\n",
      "        └───┘   └──────────┘     │        \n",
      "q_1: ─────■──────────────────────■────────\n",
      "          │                 ┌─────────┐   \n",
      "q_2: ─────■──────────■──────┤ Rx(π/5) ├───\n",
      "                     │      ├─────────┤   \n",
      "q_3: ────────────────■──────┤ Ry(π/5) ├─■─\n",
      "     ┌─────────┐            └─────────┘ │ \n",
      "q_4: ┤ Rz(π/3) ├────────────────────────■─\n",
      "     └─────────┘                          \n",
      "c: 5/═════════════════════════════════════\n",
      "                                          \n",
      "     ┌──────────┐┌─────────┐      \n",
      "q_0: ┤ Rz(-π/2) ├┤ Rz(π/5) ├────■─\n",
      "     ├─────────┬┘└─────────┘    │ \n",
      "q_1: ┤ Ry(π/5) ├──────■──────■──┼─\n",
      "     ├─────────┤      │      │  │ \n",
      "q_2: ┤ Rx(π/5) ├──────┼──────■──┼─\n",
      "     └─────────┘      │         │ \n",
      "q_3: ─────■───────────■─────────■─\n",
      "          │         ┌───┐         \n",
      "q_4: ─────■─────────┤ H ├─────────\n",
      "                    └───┘         \n",
      "c: 5/═════════════════════════════\n",
      "                                  \n",
      "        ┌───┐   ┌───┐┌──────────┐   \n",
      "q_0: ───┤ H ├───┤ Z ├┤ Rz(-π/2) ├─■─\n",
      "        └───┘   └───┘└──────────┘ │ \n",
      "q_1: ─────■───────────────────────■─\n",
      "          │          ┌─────────┐    \n",
      "q_2: ─────■───────■──┤ Rx(π/5) ├────\n",
      "                  │  ├─────────┤    \n",
      "q_3: ─────────────■──┤ Ry(π/5) ├──■─\n",
      "     ┌─────────┐     └─────────┘  │ \n",
      "q_4: ┤ Rz(π/3) ├──────────────────■─\n",
      "     └─────────┘                    \n",
      "c: 5/═══════════════════════════════\n",
      "                                    \n",
      "        ┌───┐   ┌──────────┐┌─────────┐   \n",
      "q_0: ───┤ Z ├───┤ Rz(-π/2) ├┤ Rz(π/5) ├─■─\n",
      "     ┌──┴───┴──┐└──────────┘└─────────┘ │ \n",
      "q_1: ┤ Ry(π/5) ├─────■───────────■──────┼─\n",
      "     ├─────────┤     │           │      │ \n",
      "q_2: ┤ Rx(π/5) ├─────┼───────────■──────┼─\n",
      "     └─────────┘     │                  │ \n",
      "q_3: ─────■──────────■──────────────────■─\n",
      "          │        ┌───┐                  \n",
      "q_4: ─────■────────┤ H ├──────────────────\n",
      "                   └───┘                  \n",
      "c: 5/═════════════════════════════════════\n",
      "                                          \n",
      "        ┌───┐   ┌─┐      ┌───┐   ┌──────────┐   \n",
      "q_0: ───┤ H ├───┤M├──────┤ X ├───┤ Rz(-π/2) ├─■─\n",
      "        └───┘   └╥┘      └─╥─┘   └──────────┘ │ \n",
      "q_1: ─────■──────╫─────────╫──────────────────■─\n",
      "          │      ║         ║     ┌─────────┐    \n",
      "q_2: ─────■──────╫──■──────╫─────┤ Rx(π/5) ├────\n",
      "                 ║  │      ║     ├─────────┤    \n",
      "q_3: ────────────╫──■──────╫─────┤ Ry(π/5) ├──■─\n",
      "     ┌─────────┐ ║         ║     └─────────┘  │ \n",
      "q_4: ┤ Rz(π/3) ├─╫─────────╫──────────────────■─\n",
      "     └─────────┘ ║    ┌────╨────┐               \n",
      "c: 5/════════════╩════╡ c_0=0x0 ╞═══════════════\n",
      "                 0    └─────────┘               \n",
      "      ┌────────┐┌─────────┐      \n",
      "q_0: ─┤ Rz(-π) ├┤ Rz(π/5) ├────■─\n",
      "     ┌┴────────┤└─────────┘    │ \n",
      "q_1: ┤ Ry(π/5) ├─────■──────■──┼─\n",
      "     ├─────────┤     │      │  │ \n",
      "q_2: ┤ Rx(π/5) ├─────┼──────■──┼─\n",
      "     └─────────┘     │         │ \n",
      "q_3: ─────■──────────■─────────■─\n",
      "          │        ┌───┐         \n",
      "q_4: ─────■────────┤ H ├─────────\n",
      "                   └───┘         \n",
      "c: 5/════════════════════════════\n",
      "                                 \n",
      "        ┌───┐   ┌─┐      ┌───┐   ┌──────────┐   \n",
      "q_0: ───┤ H ├───┤M├──────┤ X ├───┤ Rz(-π/2) ├─■─\n",
      "        └───┘   └╥┘      └─╥─┘   └──────────┘ │ \n",
      "q_1: ─────■──────╫─────────╫──────────────────■─\n",
      "          │      ║         ║     ┌─────────┐    \n",
      "q_2: ─────■──────╫──■──────╫─────┤ Rx(π/5) ├────\n",
      "                 ║  │      ║     ├─────────┤    \n",
      "q_3: ────────────╫──■──────╫─────┤ Ry(π/5) ├──■─\n",
      "     ┌─────────┐ ║         ║     └─────────┘  │ \n",
      "q_4: ┤ Rz(π/3) ├─╫─────────╫──────────────────■─\n",
      "     └─────────┘ ║    ┌────╨────┐               \n",
      "c: 5/════════════╩════╡ c_0=0x0 ╞═══════════════\n",
      "                 0    └─────────┘               \n",
      "     ┌─────────┐           \n",
      "q_0: ┤ Rz(π/5) ├─────────■─\n",
      "     ├─────────┤         │ \n",
      "q_1: ┤ Ry(π/5) ├──■───■──┼─\n",
      "     ├─────────┤  │   │  │ \n",
      "q_2: ┤ Rx(π/5) ├──┼───■──┼─\n",
      "     └─────────┘  │      │ \n",
      "q_3: ─────■───────■──────■─\n",
      "          │     ┌───┐      \n",
      "q_4: ─────■─────┤ H ├──────\n",
      "                └───┘      \n",
      "c: 5/══════════════════════\n",
      "                           \n",
      "        ┌───┐   ┌────────┐              \n",
      "q_0: ───┤ H ├───┤ Rz(-π) ├─────■────────\n",
      "        └───┘   └────────┘     │        \n",
      "q_1: ─────■────────────────────■────────\n",
      "          │               ┌─────────┐   \n",
      "q_2: ─────■─────────■─────┤ Rx(π/5) ├───\n",
      "                    │     ├─────────┤   \n",
      "q_3: ───────────────■─────┤ Ry(π/5) ├─■─\n",
      "     ┌─────────┐          └─────────┘ │ \n",
      "q_4: ┤ Rz(π/3) ├──────────────────────■─\n",
      "     └─────────┘                        \n",
      "c: 5/═══════════════════════════════════\n",
      "                                        \n",
      "                ┌─┐   ┌───┐   ┌──────────┐┌─────────┐   \n",
      "q_0: ───────────┤M├───┤ X ├───┤ Rz(-π/2) ├┤ Rz(π/5) ├─■─\n",
      "     ┌─────────┐└╥┘   └─╥─┘   └──────────┘└─────────┘ │ \n",
      "q_1: ┤ Ry(π/5) ├─╫──────╫──────────■───────────■──────┼─\n",
      "     ├─────────┤ ║      ║          │           │      │ \n",
      "q_2: ┤ Rx(π/5) ├─╫──────╫──────────┼───────────■──────┼─\n",
      "     └─────────┘ ║      ║          │                  │ \n",
      "q_3: ─────■──────╫──────╫──────────■──────────────────■─\n",
      "          │      ║      ║        ┌───┐                  \n",
      "q_4: ─────■──────╫──────╫────────┤ H ├──────────────────\n",
      "                 ║ ┌────╨────┐   └───┘                  \n",
      "c: 5/════════════╩═╡ c_0=0x0 ╞══════════════════════════\n",
      "                 0 └─────────┘                          \n",
      "        ┌───┐                    \n",
      "q_0: ───┤ H ├────■───────────────\n",
      "        └───┘    │               \n",
      "q_1: ─────■──────■───────────────\n",
      "          │        ┌─────────┐   \n",
      "q_2: ─────■──────■─┤ Rx(π/5) ├───\n",
      "                 │ ├─────────┤   \n",
      "q_3: ────────────■─┤ Ry(π/5) ├─■─\n",
      "     ┌─────────┐   └─────────┘ │ \n",
      "q_4: ┤ Rz(π/3) ├───────────────■─\n",
      "     └─────────┘                 \n",
      "c: 5/════════════════════════════\n",
      "                                 \n",
      "                ┌─┐   ┌───┐   ┌──────────┐┌─────────┐   \n",
      "q_0: ───────────┤M├───┤ X ├───┤ Rz(-π/2) ├┤ Rz(π/5) ├─■─\n",
      "     ┌─────────┐└╥┘   └─╥─┘   └──────────┘└─────────┘ │ \n",
      "q_1: ┤ Ry(π/5) ├─╫──────╫──────────■───────────■──────┼─\n",
      "     ├─────────┤ ║      ║          │           │      │ \n",
      "q_2: ┤ Rx(π/5) ├─╫──────╫──────────┼───────────■──────┼─\n",
      "     └─────────┘ ║      ║          │                  │ \n",
      "q_3: ─────■──────╫──────╫──────────■──────────────────■─\n",
      "          │      ║      ║        ┌───┐                  \n",
      "q_4: ─────■──────╫──────╫────────┤ H ├──────────────────\n",
      "                 ║ ┌────╨────┐   └───┘                  \n",
      "c: 5/════════════╩═╡ c_0=0x0 ╞══════════════════════════\n",
      "                 0 └─────────┘                          \n"
     ]
    }
   ],
   "source": [
    "circuit = entire_circuit()\n",
    "\n",
    "cut = qd.find_cut(circuit)\n",
    "print(cut)\n",
    "subcircuits = qd.gate_cutting_subcircuits(circuit,cut)\n",
    "\n",
    "subcircuits = compss_wait_on(subcircuits)\n",
    "\n",
    "for subcirc in subcircuits:\n",
    "    print(subcirc)"
   ]
  },
  {
   "cell_type": "markdown",
   "id": "a133f9e8",
   "metadata": {},
   "source": [
    "### 🧩 8. Wire Cutting with Subcircuits\n",
    "\n",
    "Same as gate cutting, but uses wire cutting logic.\n",
    "\n",
    "Subcircuits generated are more complex and may include measurements and resets.\n",
    "\n",
    "Visuals: Many circuit renderings show various Qiskit circuits built from the wire cut portions."
   ]
  },
  {
   "cell_type": "code",
   "execution_count": 13,
   "id": "53225b38",
   "metadata": {},
   "outputs": [
    {
     "name": "stdout",
     "output_type": "stream",
     "text": [
      "[('CZ_2', 'RZ_13')]\n",
      "        ┌───┐                    \n",
      "q_0: ───┤ H ├────■──────■────────\n",
      "        └───┘    │      │        \n",
      "q_1: ────────────■──────┼────────\n",
      "                        │        \n",
      "q_2: ─────■─────────────■────────\n",
      "          │        ┌─────────┐   \n",
      "q_3: ─────■──────■─┤ Rx(π/5) ├───\n",
      "                 │ ├─────────┤   \n",
      "q_4: ────────────■─┤ Ry(π/5) ├─■─\n",
      "     ┌─────────┐   └─────────┘ │ \n",
      "q_5: ┤ Rz(π/3) ├───────────────■─\n",
      "     └─────────┘                 \n",
      "c: 6/════════════════════════════\n",
      "                                 \n",
      "     ┌─────────┐        \n",
      "q_0: ┤ Ry(π/5) ├──■───■─\n",
      "     ├─────────┤  │   │ \n",
      "q_1: ┤ Rx(π/5) ├──┼───■─\n",
      "     └─────────┘  │     \n",
      "q_2: ─────■───────■───■─\n",
      "          │     ┌───┐ │ \n",
      "q_3: ─────■─────┤ H ├─┼─\n",
      "     ┌─────────┐└───┘ │ \n",
      "q_4: ┤ Rz(π/5) ├──────■─\n",
      "     └─────────┘        \n",
      "c: 5/═══════════════════\n",
      "                        \n",
      "        ┌───┐                    \n",
      "q_0: ───┤ H ├────■──────■────────\n",
      "        └───┘    │      │        \n",
      "q_1: ────────────■──────┼────────\n",
      "                        │        \n",
      "q_2: ─────■─────────────■────────\n",
      "          │        ┌─────────┐   \n",
      "q_3: ─────■──────■─┤ Rx(π/5) ├───\n",
      "                 │ ├─────────┤   \n",
      "q_4: ────────────■─┤ Ry(π/5) ├─■─\n",
      "     ┌─────────┐   └─────────┘ │ \n",
      "q_5: ┤ Rz(π/3) ├───────────────■─\n",
      "     └─────────┘                 \n",
      "c: 6/════════════════════════════\n",
      "                                 \n",
      "     ┌─────────┐              \n",
      "q_0: ┤ Ry(π/5) ├─────■──────■─\n",
      "     ├─────────┤     │      │ \n",
      "q_1: ┤ Rx(π/5) ├─────┼──────■─\n",
      "     └─────────┘     │        \n",
      "q_2: ─────■──────────■──────■─\n",
      "          │        ┌───┐    │ \n",
      "q_3: ─────■────────┤ H ├────┼─\n",
      "        ┌───┐   ┌──┴───┴──┐ │ \n",
      "q_4: ───┤ X ├───┤ Rz(π/5) ├─■─\n",
      "        └───┘   └─────────┘   \n",
      "c: 5/═════════════════════════\n",
      "                              \n",
      "        ┌───┐                      \n",
      "q_0: ───┤ H ├────■──────■──────────\n",
      "        └───┘    │      │     ┌───┐\n",
      "q_1: ────────────■──────┼─────┤ H ├\n",
      "                        │     └───┘\n",
      "q_2: ─────■─────────────■──────────\n",
      "          │        ┌─────────┐     \n",
      "q_3: ─────■──────■─┤ Rx(π/5) ├─────\n",
      "                 │ ├─────────┤     \n",
      "q_4: ────────────■─┤ Ry(π/5) ├──■──\n",
      "     ┌─────────┐   └─────────┘  │  \n",
      "q_5: ┤ Rz(π/3) ├────────────────■──\n",
      "     └─────────┘                   \n",
      "c: 6/══════════════════════════════\n",
      "                                   \n",
      "     ┌─────────┐              \n",
      "q_0: ┤ Ry(π/5) ├─────■──────■─\n",
      "     ├─────────┤     │      │ \n",
      "q_1: ┤ Rx(π/5) ├─────┼──────■─\n",
      "     └─────────┘     │        \n",
      "q_2: ─────■──────────■──────■─\n",
      "          │        ┌───┐    │ \n",
      "q_3: ─────■────────┤ H ├────┼─\n",
      "        ┌───┐   ┌──┴───┴──┐ │ \n",
      "q_4: ───┤ H ├───┤ Rz(π/5) ├─■─\n",
      "        └───┘   └─────────┘   \n",
      "c: 5/═════════════════════════\n",
      "                              \n",
      "        ┌───┐                      \n",
      "q_0: ───┤ H ├────■──────■──────────\n",
      "        └───┘    │      │     ┌───┐\n",
      "q_1: ────────────■──────┼─────┤ H ├\n",
      "                        │     └───┘\n",
      "q_2: ─────■─────────────■──────────\n",
      "          │        ┌─────────┐     \n",
      "q_3: ─────■──────■─┤ Rx(π/5) ├─────\n",
      "                 │ ├─────────┤     \n",
      "q_4: ────────────■─┤ Ry(π/5) ├──■──\n",
      "     ┌─────────┐   └─────────┘  │  \n",
      "q_5: ┤ Rz(π/3) ├────────────────■──\n",
      "     └─────────┘                   \n",
      "c: 6/══════════════════════════════\n",
      "                                   \n",
      "     ┌─────────┐                   \n",
      "q_0: ┤ Ry(π/5) ├──■───────■────────\n",
      "     ├─────────┤  │       │        \n",
      "q_1: ┤ Rx(π/5) ├──┼───────■────────\n",
      "     └─────────┘  │                \n",
      "q_2: ─────■───────■──────────────■─\n",
      "          │     ┌───┐            │ \n",
      "q_3: ─────■─────┤ H ├────────────┼─\n",
      "        ┌───┐   ├───┤┌─────────┐ │ \n",
      "q_4: ───┤ X ├───┤ H ├┤ Rz(π/5) ├─■─\n",
      "        └───┘   └───┘└─────────┘   \n",
      "c: 5/══════════════════════════════\n",
      "                                   \n",
      "        ┌───┐                             \n",
      "q_0: ───┤ H ├────■──────■─────────────────\n",
      "        └───┘    │      │     ┌─────┐┌───┐\n",
      "q_1: ────────────■──────┼─────┤ Sdg ├┤ H ├\n",
      "                        │     └─────┘└───┘\n",
      "q_2: ─────■─────────────■─────────────────\n",
      "          │        ┌─────────┐            \n",
      "q_3: ─────■──────■─┤ Rx(π/5) ├────────────\n",
      "                 │ ├─────────┤            \n",
      "q_4: ────────────■─┤ Ry(π/5) ├───■────────\n",
      "     ┌─────────┐   └─────────┘   │        \n",
      "q_5: ┤ Rz(π/3) ├─────────────────■────────\n",
      "     └─────────┘                          \n",
      "c: 6/═════════════════════════════════════\n",
      "                                          \n",
      "     ┌─────────┐                   \n",
      "q_0: ┤ Ry(π/5) ├──■───────■────────\n",
      "     ├─────────┤  │       │        \n",
      "q_1: ┤ Rx(π/5) ├──┼───────■────────\n",
      "     └─────────┘  │                \n",
      "q_2: ─────■───────■──────────────■─\n",
      "          │     ┌───┐            │ \n",
      "q_3: ─────■─────┤ H ├────────────┼─\n",
      "        ┌───┐   ├───┤┌─────────┐ │ \n",
      "q_4: ───┤ H ├───┤ S ├┤ Rz(π/5) ├─■─\n",
      "        └───┘   └───┘└─────────┘   \n",
      "c: 5/══════════════════════════════\n",
      "                                   \n",
      "        ┌───┐                             \n",
      "q_0: ───┤ H ├────■──────■─────────────────\n",
      "        └───┘    │      │     ┌─────┐┌───┐\n",
      "q_1: ────────────■──────┼─────┤ Sdg ├┤ H ├\n",
      "                        │     └─────┘└───┘\n",
      "q_2: ─────■─────────────■─────────────────\n",
      "          │        ┌─────────┐            \n",
      "q_3: ─────■──────■─┤ Rx(π/5) ├────────────\n",
      "                 │ ├─────────┤            \n",
      "q_4: ────────────■─┤ Ry(π/5) ├───■────────\n",
      "     ┌─────────┐   └─────────┘   │        \n",
      "q_5: ┤ Rz(π/3) ├─────────────────■────────\n",
      "     └─────────┘                          \n",
      "c: 6/═════════════════════════════════════\n",
      "                                          \n",
      "     ┌─────────┐                        \n",
      "q_0: ┤ Ry(π/5) ├──■────■────────────────\n",
      "     ├─────────┤  │    │                \n",
      "q_1: ┤ Rx(π/5) ├──┼────■────────────────\n",
      "     └─────────┘  │                     \n",
      "q_2: ─────■───────■───────────────────■─\n",
      "          │     ┌───┐                 │ \n",
      "q_3: ─────■─────┤ H ├─────────────────┼─\n",
      "        ┌───┐   ├───┤┌───┐┌─────────┐ │ \n",
      "q_4: ───┤ X ├───┤ H ├┤ S ├┤ Rz(π/5) ├─■─\n",
      "        └───┘   └───┘└───┘└─────────┘   \n",
      "c: 5/═══════════════════════════════════\n",
      "                                        \n",
      "        ┌───┐                    \n",
      "q_0: ───┤ H ├────■──────■────────\n",
      "        └───┘    │      │        \n",
      "q_1: ────────────■──────┼────────\n",
      "                        │        \n",
      "q_2: ─────■─────────────■────────\n",
      "          │        ┌─────────┐   \n",
      "q_3: ─────■──────■─┤ Rx(π/5) ├───\n",
      "                 │ ├─────────┤   \n",
      "q_4: ────────────■─┤ Ry(π/5) ├─■─\n",
      "     ┌─────────┐   └─────────┘ │ \n",
      "q_5: ┤ Rz(π/3) ├───────────────■─\n",
      "     └─────────┘                 \n",
      "c: 6/════════════════════════════\n",
      "                                 \n",
      "     ┌─────────┐        \n",
      "q_0: ┤ Ry(π/5) ├──■───■─\n",
      "     ├─────────┤  │   │ \n",
      "q_1: ┤ Rx(π/5) ├──┼───■─\n",
      "     └─────────┘  │     \n",
      "q_2: ─────■───────■───■─\n",
      "          │     ┌───┐ │ \n",
      "q_3: ─────■─────┤ H ├─┼─\n",
      "     ┌─────────┐└───┘ │ \n",
      "q_4: ┤ Rz(π/5) ├──────■─\n",
      "     └─────────┘        \n",
      "c: 5/═══════════════════\n",
      "                        \n",
      "        ┌───┐                    \n",
      "q_0: ───┤ H ├────■──────■────────\n",
      "        └───┘    │      │        \n",
      "q_1: ────────────■──────┼────────\n",
      "                        │        \n",
      "q_2: ─────■─────────────■────────\n",
      "          │        ┌─────────┐   \n",
      "q_3: ─────■──────■─┤ Rx(π/5) ├───\n",
      "                 │ ├─────────┤   \n",
      "q_4: ────────────■─┤ Ry(π/5) ├─■─\n",
      "     ┌─────────┐   └─────────┘ │ \n",
      "q_5: ┤ Rz(π/3) ├───────────────■─\n",
      "     └─────────┘                 \n",
      "c: 6/════════════════════════════\n",
      "                                 \n",
      "     ┌─────────┐              \n",
      "q_0: ┤ Ry(π/5) ├─────■──────■─\n",
      "     ├─────────┤     │      │ \n",
      "q_1: ┤ Rx(π/5) ├─────┼──────■─\n",
      "     └─────────┘     │        \n",
      "q_2: ─────■──────────■──────■─\n",
      "          │        ┌───┐    │ \n",
      "q_3: ─────■────────┤ H ├────┼─\n",
      "        ┌───┐   ┌──┴───┴──┐ │ \n",
      "q_4: ───┤ X ├───┤ Rz(π/5) ├─■─\n",
      "        └───┘   └─────────┘   \n",
      "c: 5/═════════════════════════\n",
      "                              \n"
     ]
    }
   ],
   "source": [
    "circuit = entire_circuit()\n",
    "\n",
    "cut = qd.find_cut(circuit, gate_cut=False)\n",
    "print(cut)\n",
    "subcircuits = qd.wire_cutting_subcircuits(circuit,cut)\n",
    "\n",
    "subcircuits = compss_wait_on(subcircuits)\n",
    "\n",
    "for subcirc in subcircuits:\n",
    "    print(subcirc)"
   ]
  },
  {
   "cell_type": "markdown",
   "id": "53266a98",
   "metadata": {},
   "source": [
    "### ⏹️ 9. Shutting Down PyCOMPSs\n",
    "\n",
    "ipycompss.stop(sync=True):\n",
    "\n",
    "* Stops the COMPSs runtime.\n",
    "\n",
    "* Synchronizes any unresolved futures (e.g., cut, subcircuits).\n",
    "\n",
    "Why it matters: Proper shutdown is required in PyCOMPSs to finalize all asynchronous tasks cleanly."
   ]
  },
  {
   "cell_type": "code",
   "execution_count": 14,
   "id": "4f1679a2-0d9c-4fb4-8c00-2c0abb32e9e8",
   "metadata": {},
   "outputs": [
    {
     "name": "stdout",
     "output_type": "stream",
     "text": [
      "********************************************************\n",
      "***************** STOPPING PyCOMPSs ********************\n",
      "********************************************************\n",
      "Checking if any issue happened.\n",
      "Synchronizing all future objects left on the user scope.\n",
      "Found a list to synchronize: cut\n",
      "Found a list to synchronize: subcircuits\n",
      "********************************************************\n"
     ]
    }
   ],
   "source": [
    "ipycompss.stop(sync=True)"
   ]
  }
 ],
 "metadata": {
  "kernelspec": {
   "display_name": "Python 3",
   "language": "python",
   "name": "python3"
  },
  "language_info": {
   "codemirror_mode": {
    "name": "ipython",
    "version": 3
   },
   "file_extension": ".py",
   "mimetype": "text/x-python",
   "name": "python",
   "nbconvert_exporter": "python",
   "pygments_lexer": "ipython3",
   "version": "3.10.12"
  },
  "varInspector": {
   "cols": {
    "lenName": 16,
    "lenType": 16,
    "lenVar": 40
   },
   "kernels_config": {
    "python": {
     "delete_cmd_postfix": "",
     "delete_cmd_prefix": "del ",
     "library": "var_list.py",
     "varRefreshCmd": "print(var_dic_list())"
    },
    "r": {
     "delete_cmd_postfix": ") ",
     "delete_cmd_prefix": "rm(",
     "library": "var_list.r",
     "varRefreshCmd": "cat(var_dic_list()) "
    }
   },
   "types_to_exclude": [
    "module",
    "function",
    "builtin_function_or_method",
    "instance",
    "_Feature"
   ],
   "window_display": false
  }
 },
 "nbformat": 4,
 "nbformat_minor": 5
}
