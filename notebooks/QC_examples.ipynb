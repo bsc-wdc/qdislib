{
 "cells": [
  {
   "cell_type": "markdown",
   "metadata": {},
   "source": [
    "# Quantum circuit examples generator"
   ]
  },
  {
   "cell_type": "code",
   "execution_count": 1,
   "metadata": {},
   "outputs": [],
   "source": [
    "import numpy as np\n",
    "from qibo import models, gates, hamiltonians, callbacks\n",
    "from qibo.models import Circuit\n",
    "from qibo.symbols import X, Y, Z, I\n",
    "import igraph as ig\n",
    "import matplotlib.pyplot as plt\n",
    "import random"
   ]
  },
  {
   "cell_type": "markdown",
   "metadata": {},
   "source": [
    "## Random circuit\n",
    "\n",
    "Generates a quantum circuit from a random graph where\n",
    "- Number of edges >> number of Controlled - Z (CZ) gates\n",
    "- Number of vertices >> number of qubits\n",
    "- Graph generated from Erdos_Renyi (can be changed)\n",
    "- `m` = number of CZ gates or `p` = probability of adding an edge between two arbitrary vertices\n",
    "- `gate_max` = maximal number of random single-qubit gates (from a pull) that will be inserted between the two-qubit gates"
   ]
  },
  {
   "cell_type": "code",
   "execution_count": 4,
   "metadata": {},
   "outputs": [],
   "source": [
    "def random_circuit(qubits, gate_max, num_cz, p):\n",
    "    if p == None:\n",
    "        graph = ig.Graph.Erdos_Renyi(n=qubits, m=num_cz, directed=False, loops=False)\n",
    "    elif num_cz == None:\n",
    "        graph = ig.Graph.Erdos_Renyi(n=qubits, p=p, directed=False, loops=False)\n",
    "    else:\n",
    "        print(\n",
    "            \"Error: only the number of edges or the probability of adding an edge must be specified\"\n",
    "        )\n",
    "\n",
    "    # adj_mat=graph.get_adjacency()\n",
    "    # fig, ax = plt.subplots()\n",
    "    # ig.plot(graph, target=ax, vertex_label=range(qubits))\n",
    "    # graph.degree()\n",
    "\n",
    "    edge_list = graph.get_edgelist()\n",
    "\n",
    "    gates_pull = [gates.X, gates.Y, gates.Z, gates.H]  # pull of single-qubit gates\n",
    "\n",
    "    circuit = models.Circuit(qubits)\n",
    "    for i in range(len(edge_list)):\n",
    "        rand_tmp = random.randint(\n",
    "            0, gate_max\n",
    "        )  # number of single-qubit gates between CZ\n",
    "        for j in range(rand_tmp):\n",
    "            sel_gate = random.choice(gates_pull)  # gate selected from the pull\n",
    "            sel_qubit = random.randint(\n",
    "                0, qubits - 1\n",
    "            )  # qubit selected to apply the gate\n",
    "            circuit.add(sel_gate(sel_qubit))\n",
    "\n",
    "        circuit.add(\n",
    "            gates.CZ(edge_list[i][0], edge_list[i][1])\n",
    "        )  # 2-qubit gate from graph\n",
    "\n",
    "    return circuit"
   ]
  },
  {
   "cell_type": "code",
   "execution_count": 5,
   "metadata": {},
   "outputs": [
    {
     "name": "stdout",
     "output_type": "stream",
     "text": [
      "q0: ─────o─Y─────o─X─o─────o─────────────Z─────────Z───H───\n",
      "q1: ─X───Z─H─Y───|───|─H───|─H─o───o───o───────────────────\n",
      "q2: ───────Z─Y─Z─Z───|─────|───Z───|─Y─|─X─Z─Y─X─o───o─────\n",
      "q3: ───────X─────────Z─Z───|─Z───Z─Z───|─Y───────Z─H─|───o─\n",
      "q4: ─Y─Y───────────────H─Z─Z─────Z─────Z─Z───────────Z─Z─Z─\n"
     ]
    }
   ],
   "source": [
    "qubits = 5\n",
    "num_cz = 10  # total number of 2 qubit gates\n",
    "p = None  # random.uniform(0,1) # probability of adding an edge between two arbitrary edges\n",
    "gate_max = 7  # max num of single-qubit gates between 2-qubit gates\n",
    "rand_qc = random_circuit(qubits, gate_max, num_cz, p)\n",
    "print(rand_qc.draw())"
   ]
  },
  {
   "cell_type": "markdown",
   "metadata": {},
   "source": [
    "## Trotter expansion Hamiltonian simulation (in construction)"
   ]
  },
  {
   "cell_type": "code",
   "execution_count": 1,
   "metadata": {},
   "outputs": [],
   "source": [
    "import tequila as tq"
   ]
  },
  {
   "cell_type": "code",
   "execution_count": 72,
   "metadata": {},
   "outputs": [],
   "source": [
    "def HIsing(num_qubits, lam):\n",
    "    # PBC\n",
    "    ham = []\n",
    "    coef = []\n",
    "    ham.append(tq.paulis.Z(num_qubits - 1) * tq.paulis.Z(0))\n",
    "    coef.append(1.0)\n",
    "    ham.append(tq.paulis.X(num_qubits - 1))\n",
    "    coef.append(lam)\n",
    "    for i in range(num_qubits - 1):\n",
    "        ham.append(tq.paulis.Z(i) * tq.paulis.Z(i + 1))\n",
    "        coef.append(1.0)\n",
    "        ham.append(tq.paulis.X(i))\n",
    "        coef.append(lam)\n",
    "    return (ham, coef)\n",
    "\n",
    "\n",
    "def HXXZ(num_qubits, delta):\n",
    "    # PBC\n",
    "    ham = []\n",
    "    coef = []\n",
    "    ham.append(tq.paulis.Z(num_qubits - 1) * tq.paulis.Z(0))\n",
    "    coef.append(delta)\n",
    "    ham.append(tq.paulis.X(num_qubits - 1) * tq.paulis.X(0))\n",
    "    coef.append(1.0)\n",
    "    ham.append(tq.paulis.Y(num_qubits - 1) * tq.paulis.Y(0))\n",
    "    coef.append(1.0)\n",
    "    for i in range(num_qubits - 1):\n",
    "        ham.append(tq.paulis.Z(i) * tq.paulis.Z(i + 1))\n",
    "        coef.append(delta)\n",
    "        ham.append(tq.paulis.X(i) * tq.paulis.X(i + 1))\n",
    "        coef.append(1.0)\n",
    "        ham.append(tq.paulis.Y(i) * tq.paulis.Y(i + 1))\n",
    "        coef.append(1.0)\n",
    "    return (ham, coef)\n",
    "\n",
    "\n",
    "def HXXZ(num_qubits, delta):\n",
    "    # split between even and odd sites\n",
    "    ham_even = delta * tq.paulis.Z(0) * tq.paulis.Z(1)\n",
    "    ham_even += tq.paulis.X(0) * tq.paulis.X(1)\n",
    "    ham_even += tq.paulis.Y(0) * tq.paulis.Y(1)\n",
    "    ham_odd = delta * tq.paulis.Z(num_qubits - 1) * tq.paulis.Z(0)\n",
    "    ham_odd += tq.paulis.X(num_qubits - 1) * tq.paulis.X(0)\n",
    "    ham_odd += tq.paulis.Y(num_qubits - 1) * tq.paulis.Y(0)\n",
    "    for i in range(2, num_qubits - 1, 2):\n",
    "        print(i)\n",
    "        ham_even += delta * tq.paulis.Z(i) * tq.paulis.Z(i + 1)\n",
    "        ham_even += tq.paulis.X(i) * tq.paulis.X(i + 1)\n",
    "        ham_even += tq.paulis.Y(i) * tq.paulis.Y(i + 1)\n",
    "        ham_odd += delta * tq.paulis.Z(i - 1) * tq.paulis.Z(i)\n",
    "        ham_odd += tq.paulis.X(i - 1) * tq.paulis.X(i)\n",
    "        ham_odd += tq.paulis.Y(i - 1) * tq.paulis.Y(i)\n",
    "    return (ham_even, ham_odd)"
   ]
  },
  {
   "cell_type": "code",
   "execution_count": 61,
   "metadata": {},
   "outputs": [
    {
     "name": "stdout",
     "output_type": "stream",
     "text": [
      "circuit: \n",
      "Trotterized(target=(0,), angle=1.0, generator=+1.0000Y(0))\n",
      "\n"
     ]
    }
   ],
   "source": [
    "generator1 = tq.paulis.Y(0)\n",
    "generator2 = tq.paulis.X(0)\n",
    "circuit = tq.gates.Trotterized(\n",
    "    generators=[generator1, generator2], angles=[1.0, 1.0], steps=1\n",
    ")\n",
    "tq.draw(circuit)"
   ]
  },
  {
   "cell_type": "code",
   "execution_count": 63,
   "metadata": {},
   "outputs": [
    {
     "name": "stdout",
     "output_type": "stream",
     "text": [
      "circuit: \n",
      "Trotterized(target=(0, 1), control=(), angle=1.0, generator=+1.0000Y(0)+1.0000X(1))\n",
      "\n"
     ]
    }
   ],
   "source": [
    "generator3 = tq.paulis.Y(0) + tq.paulis.X(1)\n",
    "circuit = tq.gates.Trotterized(generators=[generator3], angles=[1.0], steps=1)\n",
    "tq.draw(circuit)"
   ]
  },
  {
   "cell_type": "code",
   "execution_count": 70,
   "metadata": {},
   "outputs": [
    {
     "ename": "Exception",
     "evalue": "multiple angles given, but only one generator",
     "output_type": "error",
     "traceback": [
      "\u001b[1;31m---------------------------------------------------------------------------\u001b[0m",
      "\u001b[1;31mException\u001b[0m                                 Traceback (most recent call last)",
      "Cell \u001b[1;32mIn[70], line 5\u001b[0m\n\u001b[0;32m      2\u001b[0m param \u001b[38;5;241m=\u001b[39m \u001b[38;5;241m0.3\u001b[39m\n\u001b[0;32m      3\u001b[0m ham,coef \u001b[38;5;241m=\u001b[39m HIsing(num_qubits,param)\n\u001b[1;32m----> 5\u001b[0m circuit \u001b[38;5;241m=\u001b[39m \u001b[43mtq\u001b[49m\u001b[38;5;241;43m.\u001b[39;49m\u001b[43mgates\u001b[49m\u001b[38;5;241;43m.\u001b[39;49m\u001b[43mTrotterized\u001b[49m\u001b[43m(\u001b[49m\u001b[43mgenerators\u001b[49m\u001b[38;5;241;43m=\u001b[39;49m\u001b[43m[\u001b[49m\u001b[43mham\u001b[49m\u001b[43m]\u001b[49m\u001b[43m,\u001b[49m\u001b[43m \u001b[49m\u001b[43mangles\u001b[49m\u001b[38;5;241;43m=\u001b[39;49m\u001b[43mcoef\u001b[49m\u001b[43m,\u001b[49m\u001b[43m \u001b[49m\u001b[43msteps\u001b[49m\u001b[38;5;241;43m=\u001b[39;49m\u001b[38;5;241;43m1\u001b[39;49m\u001b[43m)\u001b[49m\n\u001b[0;32m      6\u001b[0m circuit \u001b[38;5;241m+\u001b[39m\u001b[38;5;241m=\u001b[39m tq\u001b[38;5;241m.\u001b[39mgates\u001b[38;5;241m.\u001b[39mTrotterized(generators\u001b[38;5;241m=\u001b[39m[ham], angles\u001b[38;5;241m=\u001b[39mcoef, steps\u001b[38;5;241m=\u001b[39m\u001b[38;5;241m1\u001b[39m)\n\u001b[0;32m      7\u001b[0m tq\u001b[38;5;241m.\u001b[39mdraw(circuit)\n",
      "File \u001b[1;32m~\\AppData\\Roaming\\Python\\Python310\\site-packages\\tequila\\circuit\\gates.py:471\u001b[0m, in \u001b[0;36mTrotterized\u001b[1;34m(generator, steps, angle, control, randomize, *args, **kwargs)\u001b[0m\n\u001b[0;32m    469\u001b[0m \u001b[38;5;28;01mif\u001b[39;00m angle \u001b[38;5;129;01mis\u001b[39;00m \u001b[38;5;28;01mNone\u001b[39;00m:\n\u001b[0;32m    470\u001b[0m     \u001b[38;5;28;01mif\u001b[39;00m \u001b[38;5;28mlen\u001b[39m(kwargs[\u001b[38;5;124m\"\u001b[39m\u001b[38;5;124mangles\u001b[39m\u001b[38;5;124m\"\u001b[39m]) \u001b[38;5;241m>\u001b[39m \u001b[38;5;241m1\u001b[39m:\n\u001b[1;32m--> 471\u001b[0m         \u001b[38;5;28;01mraise\u001b[39;00m \u001b[38;5;167;01mException\u001b[39;00m(\u001b[38;5;124m\"\u001b[39m\u001b[38;5;124mmultiple angles given, but only one generator\u001b[39m\u001b[38;5;124m\"\u001b[39m)\n\u001b[0;32m    472\u001b[0m     angle \u001b[38;5;241m=\u001b[39m kwargs[\u001b[38;5;124m\"\u001b[39m\u001b[38;5;124mangles\u001b[39m\u001b[38;5;124m\"\u001b[39m][\u001b[38;5;241m0\u001b[39m]\n\u001b[0;32m    473\u001b[0m \u001b[38;5;28;01melse\u001b[39;00m:\n",
      "\u001b[1;31mException\u001b[0m: multiple angles given, but only one generator"
     ]
    }
   ],
   "source": [
    "num_qubits = 4\n",
    "param = 0.3\n",
    "ham, coef = HIsing(num_qubits, param)\n",
    "\n",
    "circuit = tq.gates.Trotterized(generators=[ham], angles=coef, steps=1)\n",
    "circuit += tq.gates.Trotterized(generators=[ham], angles=coef, steps=1)\n",
    "tq.draw(circuit)\n",
    "\n",
    "openqasmcode = tq.export_open_qasm(circuit)\n",
    "\n",
    "c = models.Circuit.from_qasm(openqasmcode)\n",
    "\n",
    "print(c.draw())"
   ]
  },
  {
   "cell_type": "code",
   "execution_count": 56,
   "metadata": {},
   "outputs": [
    {
     "data": {
      "text/plain": [
       "[+1.0000Z(0)Z(3),\n",
       " +1.0000X(3),\n",
       " +1.0000Z(0)Z(1),\n",
       " +1.0000X(0),\n",
       " +1.0000Z(1)Z(2),\n",
       " +1.0000X(1),\n",
       " +1.0000Z(2)Z(3),\n",
       " +1.0000X(2)]"
      ]
     },
     "execution_count": 56,
     "metadata": {},
     "output_type": "execute_result"
    }
   ],
   "source": [
    "ham"
   ]
  },
  {
   "cell_type": "code",
   "execution_count": 74,
   "metadata": {},
   "outputs": [
    {
     "name": "stdout",
     "output_type": "stream",
     "text": [
      "2\n",
      "+0.3000Z(0)Z(1)+1.0000X(0)X(1)+1.0000Y(0)Y(1)+0.3000Z(2)Z(3)+1.0000X(2)X(3)+1.0000Y(2)Y(3)\n",
      "circuit: \n",
      "Trotterized(target=(0, 1, 2, 3), control=(), angle=1.0, generator=+0.3000Z(0)Z(1)+1.0000X(0)X(1)+1.0000Y(0)Y(1)+0.3000Z(2)Z(3)+1.0000X(2)X(3)+1.0000Y(2)Y(3))\n",
      "Trotterized(target=(0, 1, 2, 3), control=(), angle=1.0, generator=+0.3000Z(0)Z(3)+1.0000X(0)X(3)+1.0000Y(0)Y(3)+0.3000Z(1)Z(2)+1.0000X(1)X(2)+1.0000Y(1)Y(2))\n",
      "\n",
      "q0:     ─o────o─RY─o────o─RY─RX─o────o─RX──────────────────────────────────o── ...\n",
      "q1:     ─X─RZ─X─RY─X─RZ─X─RY─RX─X─RZ─X─RX──────────────────────────────────X─R ...\n",
      "q2:     ──────────────────────────────────o────o─RY─o────o─RY─RX─o────o─RX──── ...\n",
      "q3:     ──────────────────────────────────X─RZ─X─RY─X─RZ─X─RY─RX─X─RZ─X─RX──── ...\n",
      "\n",
      "q0: ... ──o─RY─o────o─RY─RX─o────o─RX──────────────────────────────────o────o─ ...\n",
      "q1: ... Z─X─RY─X─RZ─X─RY─RX─X─RZ─X─RX──────────────────────────────────|────|─ ...\n",
      "q2: ... ──────────────────────────────o────o─RY─o────o─RY─RX─o────o─RX─|────|─ ...\n",
      "q3: ... ──────────────────────────────X─RZ─X─RY─X─RZ─X─RY─RX─X─RZ─X─RX─X─RZ─X─ ...\n",
      "\n",
      "q0: ... RY─o────o─RY─RX─o────o─RX──────────────────────────────────o────o─RY─o ...\n",
      "q1: ... ───|────|───────|────|────o────o─RY─o────o─RY─RX─o────o─RX─|────|────| ...\n",
      "q2: ... ───|────|───────|────|────X─RZ─X─RY─X─RZ─X─RY─RX─X─RZ─X─RX─|────|────| ...\n",
      "q3: ... RY─X─RZ─X─RY─RX─X─RZ─X─RX──────────────────────────────────X─RZ─X─RY─X ...\n",
      "\n",
      "q0: ... ────o─RY─RX─o────o─RX──────────────────────────────────\n",
      "q1: ... ────|───────|────|────o────o─RY─o────o─RY─RX─o────o─RX─\n",
      "q2: ... ────|───────|────|────X─RZ─X─RY─X─RZ─X─RY─RX─X─RZ─X─RX─\n",
      "q3: ... ─RZ─X─RY─RX─X─RZ─X─RX──────────────────────────────────\n"
     ]
    }
   ],
   "source": [
    "num_qubits = 4\n",
    "param = 0.3\n",
    "ham_even, ham_odd = HXXZ(num_qubits, param)\n",
    "\n",
    "print(ham_even)\n",
    "\n",
    "circuit = tq.gates.Trotterized(generators=[ham_even], angles=[1.0], steps=2)\n",
    "circuit += tq.gates.Trotterized(generators=[ham_odd], angles=[1.0], steps=2)\n",
    "\n",
    "tq.draw(circuit)\n",
    "\n",
    "openqasmcode = tq.export_open_qasm(circuit)\n",
    "\n",
    "c = models.Circuit.from_qasm(openqasmcode)\n",
    "\n",
    "print(c.draw())\n",
    "# print(c.get_parameters()) # parameters from the RX, RY, SZ gates"
   ]
  },
  {
   "cell_type": "code",
   "execution_count": 39,
   "metadata": {},
   "outputs": [],
   "source": []
  },
  {
   "cell_type": "code",
   "execution_count": 40,
   "metadata": {},
   "outputs": [],
   "source": []
  },
  {
   "cell_type": "code",
   "execution_count": 41,
   "metadata": {},
   "outputs": [
    {
     "name": "stdout",
     "output_type": "stream",
     "text": [
      "q0: ─o────o─o────o─\n",
      "q1: ─|────|─|────|─\n",
      "q2: ─|────|─|────|─\n",
      "q3: ─X─RZ─X─X─RZ─X─\n",
      "[(0.5,), (0.5,)]\n"
     ]
    }
   ],
   "source": []
  },
  {
   "cell_type": "code",
   "execution_count": 18,
   "metadata": {},
   "outputs": [
    {
     "name": "stdout",
     "output_type": "stream",
     "text": [
      "Circuit depth = 13\n",
      "Total number of gates = 16\n",
      "Number of qubits = 4\n",
      "Most common gates:\n",
      "cx: 8\n",
      "rz: 4\n",
      "rx: 4\n"
     ]
    }
   ],
   "source": [
    "print(c.summary())"
   ]
  },
  {
   "cell_type": "code",
   "execution_count": 21,
   "metadata": {},
   "outputs": [
    {
     "data": {
      "text/plain": [
       "[(1.0,), (0.3,), (1.0,), (0.3,), (1.0,), (0.3,), (1.0,), (0.3,)]"
      ]
     },
     "execution_count": 21,
     "metadata": {},
     "output_type": "execute_result"
    }
   ],
   "source": []
  },
  {
   "cell_type": "code",
   "execution_count": 10,
   "metadata": {},
   "outputs": [
    {
     "name": "stdout",
     "output_type": "stream",
     "text": [
      "circuit: \n",
      "Trotterized(target=(0, 1), control=(), angle=1.0, generator=+1.0000X(0)Y(1))\n",
      "\n"
     ]
    }
   ],
   "source": [
    "generator = tq.paulis.X(0) * tq.paulis.Y(1)\n",
    "circuit5 = tq.gates.Trotterized(\n",
    "    generators=[generator], angles=[1.0], steps=1\n",
    ")  # acts the same as circuit3\n",
    "\n",
    "tq.draw(circuit5)"
   ]
  },
  {
   "cell_type": "code",
   "execution_count": null,
   "metadata": {},
   "outputs": [],
   "source": []
  }
 ],
 "metadata": {
  "kernelspec": {
   "display_name": "nb-env",
   "language": "python",
   "name": "nb-env"
  },
  "language_info": {
   "codemirror_mode": {
    "name": "ipython",
    "version": 3
   },
   "file_extension": ".py",
   "mimetype": "text/x-python",
   "name": "python",
   "nbconvert_exporter": "python",
   "pygments_lexer": "ipython3",
   "version": "3.10.11"
  }
 },
 "nbformat": 4,
 "nbformat_minor": 4
}
