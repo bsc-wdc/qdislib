{
 "cells": [
  {
   "cell_type": "markdown",
   "metadata": {},
   "source": [
    "# Quantum circuit examples generator"
   ]
  },
  {
   "cell_type": "code",
   "execution_count": null,
   "metadata": {},
   "outputs": [],
   "source": [
    "import numpy as np\n",
    "from qibo import models, gates, hamiltonians, callbacks\n",
    "from qibo.models import Circuit\n",
    "from qibo.symbols import X, Y, Z, I\n",
    "import igraph as ig\n",
    "import matplotlib.pyplot as plt\n",
    "import random"
   ]
  },
  {
   "cell_type": "markdown",
   "metadata": {},
   "source": [
    "## Random circuit\n",
    "\n",
    "Generates a quantum circuit from a random graph where\n",
    "- Number of edges >> number of Controlled - Z (CZ) gates\n",
    "- Number of vertices >> number of qubits\n",
    "- Graph generated from Erdos_Renyi (can be changed)\n",
    "- `m` = number of CZ gates or `p` = probability of adding an edge between two arbitrary vertices\n",
    "- `gate_max` = maximal number of random single-qubit gates (from a pull) that will be inserted between the two-qubit gates"
   ]
  },
  {
   "cell_type": "code",
   "execution_count": null,
   "metadata": {},
   "outputs": [],
   "source": [
    "def random_circuit(qubits, gate_max, num_cz, p):\n",
    "    if p == None:\n",
    "        graph = ig.Graph.Erdos_Renyi(n=qubits, m=num_cz, directed=False, loops=False)\n",
    "    elif num_cz == None:\n",
    "        graph = ig.Graph.Erdos_Renyi(n=qubits, p=p, directed=False, loops=False)\n",
    "    else:\n",
    "        print(\n",
    "            \"Error: only the number of edges or the probability of adding an edge must be specified\"\n",
    "        )\n",
    "\n",
    "    # adj_mat=graph.get_adjacency()\n",
    "    # fig, ax = plt.subplots()\n",
    "    # ig.plot(graph, target=ax, vertex_label=range(qubits))\n",
    "    # graph.degree()\n",
    "\n",
    "    edge_list = graph.get_edgelist()\n",
    "\n",
    "    gates_pull = [gates.X, gates.Y, gates.Z, gates.H]  # pull of single-qubit gates\n",
    "\n",
    "    circuit = models.Circuit(qubits)\n",
    "    for i in range(len(edge_list)):\n",
    "        rand_tmp = random.randint(\n",
    "            0, gate_max\n",
    "        )  # number of single-qubit gates between CZ\n",
    "        for j in range(rand_tmp):\n",
    "            sel_gate = random.choice(gates_pull)  # gate selected from the pull\n",
    "            sel_qubit = random.randint(\n",
    "                0, qubits - 1\n",
    "            )  # qubit selected to apply the gate\n",
    "            circuit.add(sel_gate(sel_qubit))\n",
    "\n",
    "        circuit.add(\n",
    "            gates.CZ(edge_list[i][0], edge_list[i][1])\n",
    "        )  # 2-qubit gate from graph\n",
    "\n",
    "    return circuit"
   ]
  },
  {
   "cell_type": "code",
   "execution_count": null,
   "metadata": {},
   "outputs": [],
   "source": [
    "qubits = 5\n",
    "num_cz = 10  # total number of 2 qubit gates\n",
    "p = None  # random.uniform(0,1) # probability of adding an edge between two arbitrary edges\n",
    "gate_max = 7  # max num of single-qubit gates between 2-qubit gates\n",
    "rand_qc = random_circuit(qubits, gate_max, num_cz, p)\n",
    "print(rand_qc.draw())"
   ]
  },
  {
   "cell_type": "markdown",
   "metadata": {},
   "source": [
    "## Trotter expansion Hamiltonian simulation (in construction)"
   ]
  },
  {
   "cell_type": "code",
   "execution_count": null,
   "metadata": {},
   "outputs": [],
   "source": [
    "import tequila as tq"
   ]
  },
  {
   "cell_type": "code",
   "execution_count": null,
   "metadata": {},
   "outputs": [],
   "source": [
    "def HIsing(num_qubits, lam):\n",
    "    # PBC\n",
    "    ham = []\n",
    "    coef = []\n",
    "    ham.append(tq.paulis.Z(num_qubits - 1) * tq.paulis.Z(0))\n",
    "    coef.append(1.0)\n",
    "    ham.append(tq.paulis.X(num_qubits - 1))\n",
    "    coef.append(lam)\n",
    "    for i in range(num_qubits - 1):\n",
    "        ham.append(tq.paulis.Z(i) * tq.paulis.Z(i + 1))\n",
    "        coef.append(1.0)\n",
    "        ham.append(tq.paulis.X(i))\n",
    "        coef.append(lam)\n",
    "    return (ham, coef)\n",
    "\n",
    "\n",
    "def HXXZ(num_qubits, delta):\n",
    "    # PBC\n",
    "    ham = []\n",
    "    coef = []\n",
    "    ham.append(tq.paulis.Z(num_qubits - 1) * tq.paulis.Z(0))\n",
    "    coef.append(delta)\n",
    "    ham.append(tq.paulis.X(num_qubits - 1) * tq.paulis.X(0))\n",
    "    coef.append(1.0)\n",
    "    ham.append(tq.paulis.Y(num_qubits - 1) * tq.paulis.Y(0))\n",
    "    coef.append(1.0)\n",
    "    for i in range(num_qubits - 1):\n",
    "        ham.append(tq.paulis.Z(i) * tq.paulis.Z(i + 1))\n",
    "        coef.append(delta)\n",
    "        ham.append(tq.paulis.X(i) * tq.paulis.X(i + 1))\n",
    "        coef.append(1.0)\n",
    "        ham.append(tq.paulis.Y(i) * tq.paulis.Y(i + 1))\n",
    "        coef.append(1.0)\n",
    "    return (ham, coef)\n",
    "\n",
    "\n",
    "def HXXZ(num_qubits, delta):\n",
    "    # split between even and odd sites\n",
    "    ham_even = delta * tq.paulis.Z(0) * tq.paulis.Z(1)\n",
    "    ham_even += tq.paulis.X(0) * tq.paulis.X(1)\n",
    "    ham_even += tq.paulis.Y(0) * tq.paulis.Y(1)\n",
    "    ham_odd = delta * tq.paulis.Z(num_qubits - 1) * tq.paulis.Z(0)\n",
    "    ham_odd += tq.paulis.X(num_qubits - 1) * tq.paulis.X(0)\n",
    "    ham_odd += tq.paulis.Y(num_qubits - 1) * tq.paulis.Y(0)\n",
    "    for i in range(2, num_qubits - 1, 2):\n",
    "        print(i)\n",
    "        ham_even += delta * tq.paulis.Z(i) * tq.paulis.Z(i + 1)\n",
    "        ham_even += tq.paulis.X(i) * tq.paulis.X(i + 1)\n",
    "        ham_even += tq.paulis.Y(i) * tq.paulis.Y(i + 1)\n",
    "        ham_odd += delta * tq.paulis.Z(i - 1) * tq.paulis.Z(i)\n",
    "        ham_odd += tq.paulis.X(i - 1) * tq.paulis.X(i)\n",
    "        ham_odd += tq.paulis.Y(i - 1) * tq.paulis.Y(i)\n",
    "    return (ham_even, ham_odd)"
   ]
  },
  {
   "cell_type": "code",
   "execution_count": null,
   "metadata": {},
   "outputs": [],
   "source": [
    "generator1 = tq.paulis.Y(0)\n",
    "generator2 = tq.paulis.X(0)\n",
    "circuit = tq.gates.Trotterized(\n",
    "    generators=[generator1, generator2], angles=[1.0, 1.0], steps=1\n",
    ")\n",
    "tq.draw(circuit)"
   ]
  },
  {
   "cell_type": "code",
   "execution_count": null,
   "metadata": {},
   "outputs": [],
   "source": [
    "generator3 = tq.paulis.Y(0) + tq.paulis.X(1)\n",
    "circuit = tq.gates.Trotterized(generators=[generator3], angles=[1.0], steps=1)\n",
    "tq.draw(circuit)"
   ]
  },
  {
   "cell_type": "code",
   "execution_count": null,
   "metadata": {},
   "outputs": [],
   "source": [
    "num_qubits = 4\n",
    "param = 0.3\n",
    "ham, coef = HIsing(num_qubits, param)\n",
    "\n",
    "circuit = tq.gates.Trotterized(generators=[ham], angles=coef, steps=1)\n",
    "circuit += tq.gates.Trotterized(generators=[ham], angles=coef, steps=1)\n",
    "tq.draw(circuit)\n",
    "\n",
    "openqasmcode = tq.export_open_qasm(circuit)\n",
    "\n",
    "c = models.Circuit.from_qasm(openqasmcode)\n",
    "\n",
    "print(c.draw())"
   ]
  },
  {
   "cell_type": "code",
   "execution_count": null,
   "metadata": {},
   "outputs": [],
   "source": [
    "ham"
   ]
  },
  {
   "cell_type": "code",
   "execution_count": null,
   "metadata": {},
   "outputs": [],
   "source": [
    "num_qubits = 4\n",
    "param = 0.3\n",
    "ham_even, ham_odd = HXXZ(num_qubits, param)\n",
    "\n",
    "print(ham_even)\n",
    "\n",
    "circuit = tq.gates.Trotterized(generators=[ham_even], angles=[1.0], steps=2)\n",
    "circuit += tq.gates.Trotterized(generators=[ham_odd], angles=[1.0], steps=2)\n",
    "\n",
    "tq.draw(circuit)\n",
    "\n",
    "openqasmcode = tq.export_open_qasm(circuit)\n",
    "\n",
    "c = models.Circuit.from_qasm(openqasmcode)\n",
    "\n",
    "print(c.draw())\n",
    "# print(c.get_parameters()) # parameters from the RX, RY, SZ gates"
   ]
  },
  {
   "cell_type": "code",
   "execution_count": null,
   "metadata": {},
   "outputs": [],
   "source": []
  },
  {
   "cell_type": "code",
   "execution_count": null,
   "metadata": {},
   "outputs": [],
   "source": []
  },
  {
   "cell_type": "code",
   "execution_count": null,
   "metadata": {},
   "outputs": [],
   "source": []
  },
  {
   "cell_type": "code",
   "execution_count": null,
   "metadata": {},
   "outputs": [],
   "source": [
    "print(c.summary())"
   ]
  },
  {
   "cell_type": "code",
   "execution_count": null,
   "metadata": {},
   "outputs": [],
   "source": []
  },
  {
   "cell_type": "code",
   "execution_count": null,
   "metadata": {},
   "outputs": [],
   "source": [
    "generator = tq.paulis.X(0) * tq.paulis.Y(1)\n",
    "circuit5 = tq.gates.Trotterized(\n",
    "    generators=[generator], angles=[1.0], steps=1\n",
    ")  # acts the same as circuit3\n",
    "\n",
    "tq.draw(circuit5)"
   ]
  },
  {
   "cell_type": "code",
   "execution_count": null,
   "metadata": {},
   "outputs": [],
   "source": []
  }
 ],
 "metadata": {
  "kernelspec": {
   "display_name": "PyCOMPSs",
   "language": "python",
   "name": "pycompss"
  },
  "language_info": {
   "codemirror_mode": {
    "name": "ipython",
    "version": 3
   },
   "file_extension": ".py",
   "mimetype": "text/x-python",
   "name": "python",
   "nbconvert_exporter": "python",
   "pygments_lexer": "ipython3",
   "version": "3.10.12"
  },
  "varInspector": {
   "cols": {
    "lenName": 16,
    "lenType": 16,
    "lenVar": 40
   },
   "kernels_config": {
    "python": {
     "delete_cmd_postfix": "",
     "delete_cmd_prefix": "del ",
     "library": "var_list.py",
     "varRefreshCmd": "print(var_dic_list())"
    },
    "r": {
     "delete_cmd_postfix": ") ",
     "delete_cmd_prefix": "rm(",
     "library": "var_list.r",
     "varRefreshCmd": "cat(var_dic_list()) "
    }
   },
   "types_to_exclude": [
    "module",
    "function",
    "builtin_function_or_method",
    "instance",
    "_Feature"
   ],
   "window_display": false
  }
 },
 "nbformat": 4,
 "nbformat_minor": 4
}
